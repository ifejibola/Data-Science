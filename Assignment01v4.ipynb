{
 "cells": [
  {
   "cell_type": "code",
   "execution_count": 1,
   "metadata": {},
   "outputs": [
    {
     "ename": "SyntaxError",
     "evalue": "invalid syntax (<ipython-input-1-72270fba9de7>, line 1)",
     "output_type": "error",
     "traceback": [
      "\u001b[0;36m  File \u001b[0;32m\"<ipython-input-1-72270fba9de7>\"\u001b[0;36m, line \u001b[0;32m1\u001b[0m\n\u001b[0;31m    Paul Ajibola\u001b[0m\n\u001b[0m         ^\u001b[0m\n\u001b[0;31mSyntaxError\u001b[0m\u001b[0;31m:\u001b[0m invalid syntax\n"
     ]
    }
   ],
   "source": [
    "Paul Ajibola\n",
    "Assignment 01 - 2020-10-12"
   ]
  },
  {
   "cell_type": "code",
   "execution_count": 1,
   "metadata": {},
   "outputs": [],
   "source": [
    "import pandas as pd\n",
    "import numpy as np"
   ]
  },
  {
   "cell_type": "code",
   "execution_count": 2,
   "metadata": {},
   "outputs": [
    {
     "name": "stdout",
     "output_type": "stream",
     "text": [
      "[59 48 59 12 48 59 48 23 24  0  0  0 48  0 23 11 11 11 11 11 35 36  0 47\n",
      "  0 59 23 59 11 59 48 35 59 12 11 47 36  0 59 36 35 35 35 12 11 47 35  0\n",
      " 59  0 48 12  0  0 24 59 59 11 24 35 12 36 11  0 11 12 59 59 11 48 24 24\n",
      " 35 23 59 47 11 35 59 35 11 11 48 24 24 23 48 11 35 24 47  0 35 36 12 35\n",
      " 35 11 11 24 47 23  0 11 12 59 11 11 23 48 24 36  0 23 24 12 35 12 12 24\n",
      " 48 12 23 12 11 48 48 35]\n"
     ]
    }
   ],
   "source": [
    "data = pd.read_csv('cities.csv')\n",
    "lats = np.array(data['LatS'])\n",
    "print(lats)"
   ]
  },
  {
   "cell_type": "code",
   "execution_count": 3,
   "metadata": {},
   "outputs": [
    {
     "name": "stdout",
     "output_type": "stream",
     "text": [
      "Average LatS: 27.4921875\n",
      "Standard deviation: 18.903536414249153\n",
      "Min: 0\n",
      "Max: 59\n",
      "30th percentile: 12.0\n",
      "Median: 24.0\n",
      "70th percentile: 36.0\n"
     ]
    }
   ],
   "source": [
    "#Average(mean)\n",
    "print(\"Average LatS:\", lats.mean())\n",
    "\n",
    "#Standard deviation\n",
    "print(\"Standard deviation:\", lats.std())\n",
    "\n",
    "#Minimum and Max\n",
    "print(\"Min:\", lats.min())\n",
    "print(\"Max:\", lats.max())\n",
    "\n",
    "#30th and median %\n",
    "print(\"30th percentile:\", np.percentile(lats,30))\n",
    "print(\"Median:\", np.median(lats))\n",
    "\n",
    "#70th %\n",
    "print(\"70th percentile:\", np.percentile(lats,70))"
   ]
  },
  {
   "cell_type": "code",
   "execution_count": 6,
   "metadata": {},
   "outputs": [],
   "source": [
    "%matplotlib inline\n",
    "import matplotlib.pyplot as plt\n",
    "import seaborn; seaborn.set() #set plot style\\"
   ]
  },
  {
   "cell_type": "code",
   "execution_count": 7,
   "metadata": {},
   "outputs": [
    {
     "data": {
      "text/plain": [
       "Text(0, 0.5, 'number')"
      ]
     },
     "execution_count": 7,
     "metadata": {},
     "output_type": "execute_result"
    },
    {
     "data": {
      "image/png": "[encoded data removed]",
      "text/plain": [
       "<Figure size 432x288 with 1 Axes>"
      ]
     },
     "metadata": {},
     "output_type": "display_data"
    }
   ],
   "source": [
    "plt.hist(lats)\n",
    "plt.title('LatS Distribution - By Ife')\n",
    "plt.xlabel('Lats')\n",
    "plt.ylabel('number')"
   ]
  },
  {
   "cell_type": "code",
   "execution_count": null,
   "metadata": {},
   "outputs": [],
   "source": []
  }
 ],
 "metadata": {
  "kernelspec": {
   "display_name": "Python 3",
   "language": "python",
   "name": "python3"
  },
  "language_info": {
   "codemirror_mode": {
    "name": "ipython",
    "version": 3
   },
   "file_extension": ".py",
   "mimetype": "text/x-python",
   "name": "python",
   "nbconvert_exporter": "python",
   "pygments_lexer": "ipython3",
   "version": "3.8.3"
  }
 },
 "nbformat": 4,
 "nbformat_minor": 4
}
