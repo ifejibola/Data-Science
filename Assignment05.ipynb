{
 "cells": [
  {
   "cell_type": "code",
   "execution_count": 1,
   "metadata": {},
   "outputs": [],
   "source": [
    "import pandas as pd\n",
    "import numpy as np"
   ]
  },
  {
   "cell_type": "code",
   "execution_count": 2,
   "metadata": {},
   "outputs": [
    {
     "data": {
      "text/html": [
       "<div>\n",
       "<style scoped>\n",
       "    .dataframe tbody tr th:only-of-type {\n",
       "        vertical-align: middle;\n",
       "    }\n",
       "\n",
       "    .dataframe tbody tr th {\n",
       "        vertical-align: top;\n",
       "    }\n",
       "\n",
       "    .dataframe thead th {\n",
       "        text-align: right;\n",
       "    }\n",
       "</style>\n",
       "<table border=\"1\" class=\"dataframe\">\n",
       "  <thead>\n",
       "    <tr style=\"text-align: right;\">\n",
       "      <th></th>\n",
       "      <th>ID</th>\n",
       "      <th>Range</th>\n",
       "      <th>Value</th>\n",
       "      <th>Type</th>\n",
       "      <th>Zip Code</th>\n",
       "      <th>Model</th>\n",
       "      <th>Cost</th>\n",
       "      <th>Continent</th>\n",
       "    </tr>\n",
       "  </thead>\n",
       "  <tbody>\n",
       "    <tr>\n",
       "      <th>0</th>\n",
       "      <td>10</td>\n",
       "      <td>192</td>\n",
       "      <td>50</td>\n",
       "      <td>F</td>\n",
       "      <td>NXEYEM</td>\n",
       "      <td>EX85</td>\n",
       "      <td>[56$]</td>\n",
       "      <td>Asia</td>\n",
       "    </tr>\n",
       "    <tr>\n",
       "      <th>1</th>\n",
       "      <td>20</td>\n",
       "      <td>299</td>\n",
       "      <td>21</td>\n",
       "      <td>M</td>\n",
       "      <td>VNFKZD</td>\n",
       "      <td>CT41</td>\n",
       "      <td>[18$]</td>\n",
       "      <td>Asia</td>\n",
       "    </tr>\n",
       "    <tr>\n",
       "      <th>2</th>\n",
       "      <td>30</td>\n",
       "      <td>378</td>\n",
       "      <td>28</td>\n",
       "      <td>X</td>\n",
       "      <td>IMGMFY</td>\n",
       "      <td>VN81</td>\n",
       "      <td>[90$]</td>\n",
       "      <td>North America</td>\n",
       "    </tr>\n",
       "    <tr>\n",
       "      <th>3</th>\n",
       "      <td>40</td>\n",
       "      <td>156</td>\n",
       "      <td>44</td>\n",
       "      <td>Q</td>\n",
       "      <td>RHRHJY</td>\n",
       "      <td>IR14</td>\n",
       "      <td>[89$]</td>\n",
       "      <td>Asia</td>\n",
       "    </tr>\n",
       "    <tr>\n",
       "      <th>4</th>\n",
       "      <td>50</td>\n",
       "      <td>468</td>\n",
       "      <td>33</td>\n",
       "      <td>J</td>\n",
       "      <td>HPQCMC</td>\n",
       "      <td>QX90</td>\n",
       "      <td>[95$]</td>\n",
       "      <td>Africa</td>\n",
       "    </tr>\n",
       "  </tbody>\n",
       "</table>\n",
       "</div>"
      ],
      "text/plain": [
       "   ID  Range  Value Type Zip Code Model   Cost      Continent\n",
       "0  10    192     50    F   NXEYEM  EX85  [56$]           Asia\n",
       "1  20    299     21    M   VNFKZD  CT41  [18$]           Asia\n",
       "2  30    378     28    X   IMGMFY  VN81  [90$]  North America\n",
       "3  40    156     44    Q   RHRHJY  IR14  [89$]           Asia\n",
       "4  50    468     33    J   HPQCMC  QX90  [95$]         Africa"
      ]
     },
     "execution_count": 2,
     "metadata": {},
     "output_type": "execute_result"
    }
   ],
   "source": [
    "#1\n",
    "myDF = pd.read_csv('test1.csv')\n",
    "myDF.head()"
   ]
  },
  {
   "cell_type": "code",
   "execution_count": 3,
   "metadata": {},
   "outputs": [
    {
     "name": "stdout",
     "output_type": "stream",
     "text": [
      "<class 'pandas.core.frame.DataFrame'>\n",
      "RangeIndex: 950 entries, 0 to 949\n",
      "Data columns (total 8 columns):\n",
      " #   Column     Non-Null Count  Dtype \n",
      "---  ------     --------------  ----- \n",
      " 0   ID         950 non-null    int64 \n",
      " 1   Range      950 non-null    int64 \n",
      " 2   Value      950 non-null    int64 \n",
      " 3   Type       948 non-null    object\n",
      " 4   Zip Code   941 non-null    object\n",
      " 5   Model      950 non-null    object\n",
      " 6   Cost       950 non-null    object\n",
      " 7   Continent  950 non-null    object\n",
      "dtypes: int64(3), object(5)\n",
      "memory usage: 59.5+ KB\n",
      "<class 'pandas.core.frame.DataFrame'>\n",
      "RangeIndex: 950 entries, 0 to 949\n",
      "Data columns (total 8 columns):\n",
      " #   Column     Non-Null Count  Dtype \n",
      "---  ------     --------------  ----- \n",
      " 0   ID         950 non-null    int64 \n",
      " 1   Range      950 non-null    int64 \n",
      " 2   Value      950 non-null    int64 \n",
      " 3   Type       948 non-null    object\n",
      " 4   Zip Code   941 non-null    object\n",
      " 5   Model      950 non-null    object\n",
      " 6   Cost       950 non-null    object\n",
      " 7   Continent  950 non-null    object\n",
      "dtypes: int64(3), object(5)\n",
      "memory usage: 316.8 KB\n"
     ]
    }
   ],
   "source": [
    "#2\n",
    "myDF.info()\n",
    "myDF.info(memory_usage='deep')"
   ]
  },
  {
   "cell_type": "code",
   "execution_count": 4,
   "metadata": {},
   "outputs": [
    {
     "data": {
      "text/plain": [
       "Index         128\n",
       "ID           7600\n",
       "Range        7600\n",
       "Value        7600\n",
       "Type         7600\n",
       "Zip Code     7600\n",
       "Model        7600\n",
       "Cost         7600\n",
       "Continent    7600\n",
       "dtype: int64"
      ]
     },
     "execution_count": 4,
     "metadata": {},
     "output_type": "execute_result"
    }
   ],
   "source": [
    "myDF.memory_usage()"
   ]
  },
  {
   "cell_type": "code",
   "execution_count": 5,
   "metadata": {},
   "outputs": [
    {
     "data": {
      "text/plain": [
       "ID            int64\n",
       "Range         int64\n",
       "Value         int64\n",
       "Type         object\n",
       "Zip Code     object\n",
       "Model        object\n",
       "Cost         object\n",
       "Continent    object\n",
       "dtype: object"
      ]
     },
     "execution_count": 5,
     "metadata": {},
     "output_type": "execute_result"
    }
   ],
   "source": [
    "myDF.dtypes"
   ]
  },
  {
   "cell_type": "code",
   "execution_count": 6,
   "metadata": {},
   "outputs": [
    {
     "data": {
      "text/plain": [
       "ID              int64\n",
       "Range           int64\n",
       "Value           int64\n",
       "Type           object\n",
       "Zip Code       object\n",
       "Model          object\n",
       "Cost           object\n",
       "Continent    category\n",
       "dtype: object"
      ]
     },
     "execution_count": 6,
     "metadata": {},
     "output_type": "execute_result"
    }
   ],
   "source": [
    "#4 \n",
    "myDF[['Continent']] = myDF[['Continent']].astype('category')\n",
    "myDF.dtypes"
   ]
  },
  {
   "cell_type": "code",
   "execution_count": 7,
   "metadata": {},
   "outputs": [
    {
     "data": {
      "text/plain": [
       "{2: 'Asia',\n",
       " 5: 'North America',\n",
       " 0: 'Africa',\n",
       " 4: 'Europe',\n",
       " 1: 'Antarctica',\n",
       " 6: 'South America',\n",
       " 3: 'Australia'}"
      ]
     },
     "execution_count": 7,
     "metadata": {},
     "output_type": "execute_result"
    }
   ],
   "source": [
    "#5 \n",
    "dict(zip(myDF['Continent'].cat.codes, myDF['Continent']))"
   ]
  },
  {
   "cell_type": "code",
   "execution_count": 8,
   "metadata": {},
   "outputs": [],
   "source": [
    "#6 It uses less memory"
   ]
  },
  {
   "cell_type": "code",
   "execution_count": 9,
   "metadata": {},
   "outputs": [],
   "source": [
    "#7\n",
    "myDF = pd.read_csv('test1.csv')"
   ]
  },
  {
   "cell_type": "code",
   "execution_count": 10,
   "metadata": {},
   "outputs": [],
   "source": [
    "# 8 \n",
    "mySchool = pd.read_csv('test2.csv')"
   ]
  },
  {
   "cell_type": "code",
   "execution_count": 11,
   "metadata": {},
   "outputs": [
    {
     "ename": "NameError",
     "evalue": "name 'describe' is not defined",
     "output_type": "error",
     "traceback": [
      "\u001b[0;31m---------------------------------------------------------------------------\u001b[0m",
      "\u001b[0;31mNameError\u001b[0m                                 Traceback (most recent call last)",
      "\u001b[0;32m<ipython-input-11-a3fb9dc9d6eb>\u001b[0m in \u001b[0;36m<module>\u001b[0;34m\u001b[0m\n\u001b[0;32m----> 1\u001b[0;31m \u001b[0mdescribe\u001b[0m\u001b[0;34m(\u001b[0m\u001b[0;34m)\u001b[0m\u001b[0;34m-\u001b[0m\u001b[0;34m-\u001b[0m\u001b[0mhelp\u001b[0m\u001b[0;34m\u001b[0m\u001b[0;34m\u001b[0m\u001b[0m\n\u001b[0m",
      "\u001b[0;31mNameError\u001b[0m: name 'describe' is not defined"
     ]
    }
   ],
   "source": [
    "describe()"
   ]
  },
  {
   "cell_type": "code",
   "execution_count": null,
   "metadata": {},
   "outputs": [],
   "source": []
  },
  {
   "cell_type": "code",
   "execution_count": null,
   "metadata": {},
   "outputs": [],
   "source": []
  }
 ],
 "metadata": {
  "kernelspec": {
   "display_name": "Python 3",
   "language": "python",
   "name": "python3"
  },
  "language_info": {
   "codemirror_mode": {
    "name": "ipython",
    "version": 3
   },
   "file_extension": ".py",
   "mimetype": "text/x-python",
   "name": "python",
   "nbconvert_exporter": "python",
   "pygments_lexer": "ipython3",
   "version": "3.8.3"
  }
 },
 "nbformat": 4,
 "nbformat_minor": 4
}
