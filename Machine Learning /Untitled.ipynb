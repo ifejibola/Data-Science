{
 "cells": [
  {
   "cell_type": "code",
   "execution_count": 1,
   "metadata": {},
   "outputs": [],
   "source": [
    "    #Feture Engineering - taking whatever information about your problem and turning it\n",
    "#into numbers you can use to build your feture matrix.(for representing categorical, text, images data)\n",
    "\n",
    "\n",
    "#Rough data\n",
    "data = [{'price': 850000, 'rooms': 4, 'neighborhood': 'Queen Anne'},\n",
    "               {'price': 700000, 'rooms': 3, 'neighborhood': 'Fremont'},\n",
    "               {'price': 650000, 'rooms': 3, 'neighborhood': 'Wallingford'},\n",
    "               {'price': 600000, 'rooms': 2, 'neighborhood': 'Fremont'}]"
   ]
  },
  {
   "cell_type": "code",
   "execution_count": 2,
   "metadata": {},
   "outputs": [
    {
     "data": {
      "text/plain": [
       "array([[     0,      1,      0, 850000,      4],\n",
       "       [     1,      0,      0, 700000,      3],\n",
       "       [     0,      0,      1, 650000,      3],\n",
       "       [     1,      0,      0, 600000,      2]])"
      ]
     },
     "execution_count": 2,
     "metadata": {},
     "output_type": "execute_result"
    }
   ],
   "source": [
    "#Categorical dat\n",
    "#Step1 - use one-hot encoding, creates extra columns indicating the presence or absence of a category with a value of 1 or 0\n",
    "    # when data comes as a list of dictionaries, it is handled as:\n",
    "from sklearn.feature_extraction import DictVectorizer\n",
    "vec = DictVectorizer(sparse=False, dtype=int)\n",
    "vec.fit_transform(data)\n",
    "\n",
    "    #neighborhood column has been expandded into three seprate columns, representing the 3 neighborhood labels."
   ]
  },
  {
   "cell_type": "code",
   "execution_count": 3,
   "metadata": {},
   "outputs": [
    {
     "data": {
      "text/plain": [
       "['neighborhood=Fremont',\n",
       " 'neighborhood=Queen Anne',\n",
       " 'neighborhood=Wallingford',\n",
       " 'price',\n",
       " 'rooms']"
      ]
     },
     "execution_count": 3,
     "metadata": {},
     "output_type": "execute_result"
    }
   ],
   "source": [
    "#To see the meaning of each column, you can inspect the feature names\n",
    "vec.get_feature_names()"
   ]
  },
  {
   "cell_type": "code",
   "execution_count": null,
   "metadata": {},
   "outputs": [],
   "source": [
    "#Disadvantage : if category has many possible values, this can greatly increase the size of dataset."
   ]
  }
 ],
 "metadata": {
  "kernelspec": {
   "display_name": "Python 3",
   "language": "python",
   "name": "python3"
  },
  "language_info": {
   "codemirror_mode": {
    "name": "ipython",
    "version": 3
   },
   "file_extension": ".py",
   "mimetype": "text/x-python",
   "name": "python",
   "nbconvert_exporter": "python",
   "pygments_lexer": "ipython3",
   "version": "3.8.3"
  }
 },
 "nbformat": 4,
 "nbformat_minor": 4
}
